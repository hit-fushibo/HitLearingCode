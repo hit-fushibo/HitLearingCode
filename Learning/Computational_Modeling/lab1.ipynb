{
 "cells": [
  {
   "cell_type": "code",
   "execution_count": 1,
   "metadata": {},
   "outputs": [],
   "source": [
    "import random\n",
    "import numpy as np\n",
    "import cv2 as cv\n",
    "import matplotlib.pyplot as plt\n",
    "from skimage.metrics import peak_signal_noise_ratio,structural_similarity\n"
   ]
  },
  {
   "cell_type": "code",
   "execution_count": 2,
   "metadata": {},
   "outputs": [
    {
     "name": "stdout",
     "output_type": "stream",
     "text": [
      "3.14162\n"
     ]
    }
   ],
   "source": [
    "i,j=0,0\n",
    "for _ in range(1000000):\n",
    "    x=random.uniform(-1,1)\n",
    "    y=random.uniform(-1,1)\n",
    "    if x**2+y**2<=1:\n",
    "        i+=1\n",
    "    j+=1\n",
    "print(4*(i/j))\n"
   ]
  },
  {
   "cell_type": "code",
   "execution_count": 3,
   "metadata": {},
   "outputs": [
    {
     "name": "stdout",
     "output_type": "stream",
     "text": [
      "method 1 mean: 0.04468452081836277 ,var: 1.0357620597288655\n",
      "method 2 mean: 0.01548648695077237 ,var: 1.0054480846653446\n"
     ]
    }
   ],
   "source": [
    "m=0\n",
    "sigma=1\n",
    "m1_y=[]\n",
    "\n",
    "# method 1\n",
    "for _ in range(1000):\n",
    "    x1=random.uniform(0,1)\n",
    "    x2=random.uniform(0,1)\n",
    "    y1=sigma*np.sqrt(-2*np.log(x1))*np.cos(2*np.pi*x2)+m\n",
    "    y2=sigma*np.sqrt(-2*np.log(x1))*np.sin(2*np.pi*x2)+m\n",
    "    m1_y.append(y1)\n",
    "m1_y=np.array(m1_y)\n",
    "print('method 1 mean:',m1_y.mean(),',var:',m1_y.var())\n",
    "\n",
    "#method 2\n",
    "m2_y=[]\n",
    "for _ in range(1000):\n",
    "    X=np.array([random.uniform(0,1) for _ in range(12)])\n",
    "    Y=X.sum()-6\n",
    "    Z=sigma*Y+m\n",
    "    m2_y.append(Z)\n",
    "m2_y=np.array(m2_y)\n",
    "print('method 2 mean:',m2_y.mean(),',var:',m2_y.var())"
   ]
  },
  {
   "cell_type": "code",
   "execution_count": 4,
   "metadata": {},
   "outputs": [
    {
     "name": "stdout",
     "output_type": "stream",
     "text": [
      "PSNR: 46.89714193060268\n",
      "SSIM: 0.9915482053701083\n"
     ]
    }
   ],
   "source": [
    "mean=0\n",
    "var=1\n",
    "img=cv.imread('test.png',cv.IMREAD_GRAYSCALE)\n",
    "noise=np.random.normal(mean,var**0.5,img.shape)\n",
    "img_new=np.uint8(np.array(img)+noise)\n",
    "print('PSNR:',peak_signal_noise_ratio(img,img_new))\n",
    "print('SSIM:',structural_similarity(img,img_new))"
   ]
  },
  {
   "cell_type": "code",
   "execution_count": 5,
   "metadata": {},
   "outputs": [
    {
     "data": {
      "image/png": "[encoded data removed]",
      "text/plain": [
       "<Figure size 640x480 with 1 Axes>"
      ]
     },
     "metadata": {},
     "output_type": "display_data"
    }
   ],
   "source": [
    "def Mean_and_Std(x):\n",
    "    X=np.array(x)\n",
    "    return X.mean(),X.var()\n",
    "\n",
    "n=500\n",
    "conut=[i for i in range(1,101)]\n",
    "std_mean=[10 for i in range(100)]\n",
    "std_var=[5 for i in range(100)]\n",
    "X=[]\n",
    "mean_c=[]\n",
    "std_c=[]\n",
    "for i in range(100):\n",
    "    x=np.random.normal(10,5**0.5)\n",
    "    X.append(x)\n",
    "    mean_i,std_i=Mean_and_Std(X)\n",
    "    mean_c.append(mean_i)\n",
    "    std_c.append(std_i)\n",
    "plt.figure()\n",
    "plt.plot(conut,mean_c,'r-',label='mean')\n",
    "plt.plot(conut,std_mean,'r--')\n",
    "plt.plot(conut,std_c,'b-',label='var')\n",
    "plt.plot(conut,std_var,'b--')\n",
    "plt.legend()\n",
    "plt.show()"
   ]
  },
  {
   "cell_type": "code",
   "execution_count": null,
   "metadata": {},
   "outputs": [],
   "source": []
  },
  {
   "cell_type": "code",
   "execution_count": 6,
   "metadata": {},
   "outputs": [
    {
     "name": "stdout",
     "output_type": "stream",
     "text": [
      "0.557 0.443\n",
      "0.5714285714285715 0.42857142857142855\n"
     ]
    }
   ],
   "source": [
    "a=1/2\n",
    "b=1/3\n",
    "state_1,state_2=0,0\n",
    "state=1\n",
    "for i in range(1000):\n",
    "    if state==1:\n",
    "        state_1+=1\n",
    "        x=np.random.uniform(0,1)\n",
    "        if x>0.5:\n",
    "            state=2\n",
    "    elif state==2:\n",
    "        state_2+=1\n",
    "        x=np.random.uniform(0,1)\n",
    "        if x>(1/3):\n",
    "            state=1\n",
    "print(state_1/1000,state_2/1000)\n",
    "print((1-b)/(2-a-b),(1-a)/(2-a-b))"
   ]
  },
  {
   "cell_type": "code",
   "execution_count": 7,
   "metadata": {},
   "outputs": [],
   "source": [
    "def bin_Gass(x,mu,sigma):\n",
    "    inv_sigma=np.linalg.inv(sigma)\n",
    "    a=(1/((2*np.pi)*np.linalg.det(sigma)**0.5))*np.exp(-0.5*(x-mu)@inv_sigma@(x-mu).T)\n",
    "    return a\n",
    "\n",
    "dataset=np.array([[0.697,0.460],[0.774,0.376],[0.634,0.264],[0.608,0.318],[0.556,0.215],\n",
    "        [0.403,0.237],[0.481,0.149],[0.437,0.211],[0.666,0.091],[0.243,0.267],\n",
    "        [0.245,0.057],[0.343,0.099],[0.639,0.161],[0.657,0.198],[0.360,0.370],\n",
    "        [0.593,0.042],[0.719,0.103],[0.359,0.188],[0.339,0.241],[0.282,0.257],\n",
    "        [0.748,0.232],[0.714,0.346],[0.483,0.312],[0.478,0.437],[0.525,0.369],\n",
    "        [0.751,0.489],[0.532,0.472],[0.473,0.376],[0.725,0.445],[0.446,0.459]])\n",
    "k=3\n",
    "m=30\n",
    "sigma=np.array([np.array([[0.1,0],[0,0.1]]),np.array([[0.1,0],[0,0.1]]),np.array([[0.1,0],[0,0.1]])])\n",
    "mu=np.array([dataset[0],dataset[9],dataset[16]])\n",
    "alpha=np.array([1/3,1/3,1/3])\n",
    "gamma=np.zeros((m,k))\n",
    "\n",
    "for _ in range(1000):\n",
    "    for j in range(m):\n",
    "        for i in range(k):\n",
    "            sum=0\n",
    "            for l in range(k):\n",
    "                sum+=alpha[l]*bin_Gass(dataset[j],mu[l],sigma[l])\n",
    "            gamma[j,i]=alpha[i]*bin_Gass(dataset[j],mu[i],sigma[i])/sum\n",
    "    for i in range(k):\n",
    "        up=np.array([0,0],dtype=float)\n",
    "        down=0\n",
    "        for j in range(m):\n",
    "            up+=gamma[j,i]*dataset[j]\n",
    "            down+=gamma[j,i]\n",
    "        mu[i]=up/down\n",
    "        \n",
    "        up=np.array([[0,0],[0,0]],dtype=float)\n",
    "        for j in range(m):\n",
    "            diff=dataset[j]-mu[i]\n",
    "            up+=gamma[j,i]*np.array([[diff[0]**2,diff[0]*diff[1]],[diff[0]*diff[1],diff[1]**2]])\n",
    "        sigma[i]=up/down\n",
    "        \n",
    "        alpha[i]=down/m\n"
   ]
  },
  {
   "cell_type": "code",
   "execution_count": 8,
   "metadata": {},
   "outputs": [
    {
     "data": {
      "image/png": "[encoded data removed]",
      "text/plain": [
       "<Figure size 640x480 with 1 Axes>"
      ]
     },
     "metadata": {},
     "output_type": "display_data"
    }
   ],
   "source": [
    "labels = gamma.T.argmax(axis=0)\n",
    "c1x, c1y, c2x, c2y, c3x, c3y = [], [], [], [], [], []\n",
    "plt.figure()\n",
    "plt.rcParams['font.sans-serif'] = ['SimHei']\n",
    "for i in range(m):\n",
    "    if labels[i] == 0:\n",
    "        c1x.append(dataset[i][0])\n",
    "        c1y.append(dataset[i][1])\n",
    "    elif labels[i] == 1:\n",
    "        c2x.append(dataset[i][0])\n",
    "        c2y.append(dataset[i][1])\n",
    "    else:\n",
    "        c3x.append(dataset[i][0])\n",
    "        c3y.append(dataset[i][1])\n",
    "plt.scatter(c1x, c1y, c='r', label='cls1')\n",
    "plt.scatter(c2x, c2y, c='g', label='cls2')\n",
    "plt.scatter(c3x, c3y, c='b', label='cls3')\n",
    "plt.xlabel('密度')\n",
    "plt.ylabel('含糖量')\n",
    "plt.legend()\n",
    "plt.show()"
   ]
  }
 ],
 "metadata": {
  "kernelspec": {
   "display_name": "Python 3",
   "language": "python",
   "name": "python3"
  },
  "language_info": {
   "codemirror_mode": {
    "name": "ipython",
    "version": 3
   },
   "file_extension": ".py",
   "mimetype": "text/x-python",
   "name": "python",
   "nbconvert_exporter": "python",
   "pygments_lexer": "ipython3",
   "version": "3.10.9"
  },
  "orig_nbformat": 4
 },
 "nbformat": 4,
 "nbformat_minor": 2
}
